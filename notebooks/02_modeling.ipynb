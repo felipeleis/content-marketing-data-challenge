{
 "cells": [
  {
   "cell_type": "code",
   "execution_count": 1,
   "metadata": {},
   "outputs": [],
   "source": [
    "import pandas as pd\n",
    "from sklearn.model_selection import train_test_split\n",
    "from sklearn.preprocessing import StandardScaler\n",
    "from sklearn.feature_extraction.text import TfidfVectorizer\n",
    "from scipy import stats\n",
    "import prince"
   ]
  },
  {
   "cell_type": "code",
   "execution_count": 2,
   "metadata": {},
   "outputs": [],
   "source": [
    "df_raw = pd.read_csv('../data/raw/problem_merged_data.csv')"
   ]
  },
  {
   "cell_type": "code",
   "execution_count": 3,
   "metadata": {},
   "outputs": [],
   "source": [
    "x_train, x_test, y_train, y_test = train_test_split(df_raw.drop('cpe', axis=1), df_raw.get('cpe'), test_size=0.25, random_state=0, shuffle=True)\n",
    "df_train = pd.concat([x_train, y_train], axis=1)\n",
    "df_test = pd.concat([x_test, y_train], axis=1)"
   ]
  },
  {
   "cell_type": "code",
   "execution_count": 4,
   "metadata": {},
   "outputs": [],
   "source": [
    "def apply_boxcox_transformation(df: pd.DataFrame, col: str, lambda_: float = None) -> pd.DataFrame:\n",
    "\n",
    "    if lambda_ is None:\n",
    "        df[f'{col}_boxcox'], lambda_ = stats.boxcox(df[col])\n",
    "        return df, lambda_\n",
    "    else:\n",
    "        df[f'{col}_boxcox'] = stats.boxcox(df[col], lambda_)\n",
    "        return df"
   ]
  },
  {
   "cell_type": "code",
   "execution_count": 5,
   "metadata": {},
   "outputs": [],
   "source": [
    "for col in ['active_days', 'bid', 'budget']:\n",
    "    x_train_transformed, lambda_ = apply_boxcox_transformation(x_train, col)\n",
    "    x_test_transformed = apply_boxcox_transformation(x_test, col, lambda_)"
   ]
  },
  {
   "cell_type": "code",
   "execution_count": 6,
   "metadata": {},
   "outputs": [],
   "source": [
    "cols_to_transform = ['active_days_boxcox', 'bid_boxcox', 'budget_boxcox']\n",
    "\n",
    "scaler = StandardScaler()\n",
    "\n",
    "# Train data\n",
    "x_train_numeric_std = pd.DataFrame(\n",
    "    scaler.fit_transform(x_train_transformed[cols_to_transform]),\n",
    "    index=x_train_transformed.index,\n",
    "    columns=[f\"{col}_std\" for col in cols_to_transform]\n",
    "    )\n",
    "\n",
    "# Test data\n",
    "x_test_numeric_std = pd.DataFrame(\n",
    "    scaler.fit_transform(x_test_transformed[cols_to_transform]),\n",
    "    index=x_test_transformed.index,\n",
    "    columns=[f\"{col}_std\" for col in cols_to_transform]\n",
    "    )"
   ]
  },
  {
   "cell_type": "code",
   "execution_count": 7,
   "metadata": {},
   "outputs": [],
   "source": [
    "vectorizer = TfidfVectorizer(stop_words='english')\n",
    "\n",
    "# Train data\n",
    "x_train_transformed = x_train_transformed.assign(\n",
    "    headline_storySummary=x_train_transformed['headline'] + '. ' + x_train_transformed['storySummary']\n",
    ")\n",
    "X = vectorizer.fit_transform(x_train_transformed.headline_storySummary)\n",
    "x_train_transformed_text = pd.DataFrame(\n",
    "    X.toarray(), index=x_train_transformed.index, columns=vectorizer.get_feature_names_out()\n",
    "    )\n",
    "\n",
    "# Test data\n",
    "x_test_transformed = x_test_transformed.assign(\n",
    "    headline_storySummary=x_test_transformed['headline'] + '. ' + x_test_transformed['storySummary']\n",
    ")\n",
    "X = vectorizer.transform(x_test_transformed.headline_storySummary)\n",
    "x_test_transformed_text = pd.DataFrame(\n",
    "    X.toarray(), index=x_test_transformed.index, columns=vectorizer.get_feature_names_out()\n",
    "    )"
   ]
  },
  {
   "cell_type": "code",
   "execution_count": 8,
   "metadata": {},
   "outputs": [],
   "source": [
    "famd = prince.FAMD(\n",
    "    n_components=15,\n",
    "    n_iter=3,\n",
    "    copy=True,\n",
    "    check_input=True,\n",
    "    random_state=42,\n",
    "    engine=\"sklearn\",\n",
    "    handle_unknown=\"ignore\"\n",
    ")\n",
    "\n",
    "dataset_for_famd_train = pd.concat([x_train[\n",
    "    ['channel', 'targetAge', 'targetOs', 'targetGender', 'CATEGORY_1',]\n",
    "    ], x_train_numeric_std], axis=1)\n",
    "\n",
    "famd = famd.fit(dataset_for_famd_train)\n",
    "reduced_dim_train = famd.transform(dataset_for_famd_train)"
   ]
  },
  {
   "cell_type": "code",
   "execution_count": 9,
   "metadata": {},
   "outputs": [],
   "source": [
    "from sklearn.ensemble import RandomForestRegressor\n",
    "from sklearn.metrics import mean_squared_error, r2_score\n",
    "import numpy as np\n",
    "\n",
    "dataset_for_famd_test = pd.concat([x_test[\n",
    "    ['channel', 'targetAge', 'targetOs', 'targetGender', 'CATEGORY_1',]\n",
    "    ], x_test_numeric_std], axis=1)\n",
    "reduced_dim_test = famd.transform(dataset_for_famd_test)\n",
    "\n",
    "\n",
    "regressor = RandomForestRegressor()\n",
    "regressor.fit(reduced_dim_train, y_train)\n",
    "r2_train = r2_score(y_train, regressor.predict(reduced_dim_train))\n",
    "r2_test = r2_score(y_test, regressor.predict(reduced_dim_test))\n",
    "rmse_train = np.sqrt(mean_squared_error(y_train, regressor.predict(reduced_dim_train)))\n",
    "rmse_test = np.sqrt(mean_squared_error(y_test, regressor.predict(reduced_dim_test)))"
   ]
  },
  {
   "cell_type": "code",
   "execution_count": 11,
   "metadata": {},
   "outputs": [
    {
     "data": {
      "text/plain": [
       "(0.8573375399089833,\n",
       " 0.21262556998647497,\n",
       " 0.31578362556141865,\n",
       " 0.79236918862685)"
      ]
     },
     "execution_count": 11,
     "metadata": {},
     "output_type": "execute_result"
    }
   ],
   "source": [
    "r2_train, r2_test, rmse_train, rmse_test"
   ]
  },
  {
   "cell_type": "code",
   "execution_count": 12,
   "metadata": {},
   "outputs": [
    {
     "data": {
      "text/plain": [
       "(0.79236918862685, 0.5125948327126805, 0.894032545733008)"
      ]
     },
     "execution_count": 12,
     "metadata": {},
     "output_type": "execute_result"
    }
   ],
   "source": [
    "rmse_test, regressor.predict(reduced_dim_test).std(), y_test.std()"
   ]
  }
 ],
 "metadata": {
  "kernelspec": {
   "display_name": "inpowered",
   "language": "python",
   "name": "python3"
  },
  "language_info": {
   "codemirror_mode": {
    "name": "ipython",
    "version": 3
   },
   "file_extension": ".py",
   "mimetype": "text/x-python",
   "name": "python",
   "nbconvert_exporter": "python",
   "pygments_lexer": "ipython3",
   "version": "3.8.18"
  }
 },
 "nbformat": 4,
 "nbformat_minor": 2
}
